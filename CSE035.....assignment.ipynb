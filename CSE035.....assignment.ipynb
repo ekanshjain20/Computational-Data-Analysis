{
 "cells": [
  {
   "cell_type": "code",
   "execution_count": 10,
   "metadata": {},
   "outputs": [
    {
     "name": "stdout",
     "output_type": "stream",
     "text": [
      "enter a number\n",
      "10\n",
      "3628800\n"
     ]
    }
   ],
   "source": [
    "n=int(input(\"enter a number\\n\"))\n",
    "a=n\n",
    "i=1\n",
    "while i<n:\n",
    "    t=i*a\n",
    "    a=t\n",
    "    i+=1\n",
    "if a==0:\n",
    "    print(1)\n",
    "else:\n",
    "    print(a)"
   ]
  },
  {
   "cell_type": "code",
   "execution_count": 9,
   "metadata": {},
   "outputs": [
    {
     "name": "stdout",
     "output_type": "stream",
     "text": [
      "g\n",
      "f\n",
      "e\n",
      "d\n",
      "c\n",
      "b\n",
      "a\n"
     ]
    }
   ],
   "source": [
    "l=['a','b','c','d','e','f','g']\n",
    "n=len(l)\n",
    "n-=1\n",
    "while n!=-1:\n",
    "    print(l[n])\n",
    "    n-=1"
   ]
  },
  {
   "cell_type": "code",
   "execution_count": 3,
   "metadata": {},
   "outputs": [
    {
     "name": "stdout",
     "output_type": "stream",
     "text": [
      "enter number 10\n",
      "0,1,1,2,3,5,8,13,21,34,"
     ]
    }
   ],
   "source": [
    "#fibonacci series\n",
    "i=1\n",
    "n=int(input('enter number '))\n",
    "next=1\n",
    "f=0\n",
    "s=0\n",
    "while i<=n: \n",
    "    print(s,end=',') \n",
    "    \n",
    "    f=s\n",
    "    s=next\n",
    "    next=f+s\n",
    "    i+=1"
   ]
  },
  {
   "cell_type": "code",
   "execution_count": 5,
   "metadata": {},
   "outputs": [
    {
     "name": "stdout",
     "output_type": "stream",
     "text": [
      "30\n"
     ]
    }
   ],
   "source": [
    "s=0\n",
    "for x in range(0,11,2):\n",
    "    s+=x\n",
    "print(s)"
   ]
  },
  {
   "cell_type": "code",
   "execution_count": 14,
   "metadata": {},
   "outputs": [
    {
     "name": "stdout",
     "output_type": "stream",
     "text": [
      "enter number\n",
      "1\n",
      "enter number\n",
      "7\n",
      "enter number\n",
      "2\n",
      "3\n"
     ]
    }
   ],
   "source": [
    "a=int(input('enter number\\n'))\n",
    "b=int(input('enter number\\n'))\n",
    "c=int(input('enter number\\n'))\n",
    "n=0\n",
    "for x in range(a,b):\n",
    "    if x%c==0:\n",
    "        n+=1\n",
    "print(n)"
   ]
  },
  {
   "cell_type": "code",
   "execution_count": 2,
   "metadata": {},
   "outputs": [
    {
     "name": "stdout",
     "output_type": "stream",
     "text": [
      "enter number 67\n",
      "5\n",
      "6\n",
      "7\n",
      "8\n",
      "15\n",
      "16\n",
      "17\n",
      "18\n",
      "25\n",
      "26\n",
      "27\n",
      "28\n",
      "35\n",
      "36\n",
      "37\n",
      "38\n",
      "45\n",
      "46\n",
      "47\n",
      "48\n",
      "55\n",
      "56\n",
      "57\n",
      "58\n",
      "65\n",
      "66\n",
      "67\n"
     ]
    }
   ],
   "source": [
    "i=1\n",
    "n=int(input('enter number '))\n",
    "while i<=n:\n",
    "    if i%10>=5 and i%10<=8:\n",
    "        print(i)\n",
    "    i+=1"
   ]
  },
  {
   "cell_type": "code",
   "execution_count": 4,
   "metadata": {},
   "outputs": [
    {
     "name": "stdout",
     "output_type": "stream",
     "text": [
      "enter number 4\n",
      "enter number 45\n",
      "enter number 1\n",
      "number 2 is greatest\n",
      "number 3 is smallest\n",
      "number 1 is second greatest\n"
     ]
    }
   ],
   "source": [
    "p1=int(input('enter number '))\n",
    "p2=int(input('enter number '))\n",
    "p3=int(input('enter number '))\n",
    "if p1>p2:\n",
    "    if p1>p3:\n",
    "        print('number 1 is greatest')\n",
    "        if p2<p3:\n",
    "            print(\"number 2 is smallest\")\n",
    "            print('number 3 is second greatest')\n",
    "        else:\n",
    "            print(\"number 3 is smallest\")\n",
    "            print('number 2 is second greatest')\n",
    "    else:\n",
    "        print('number 3 is greatest')\n",
    "        print('number 2 is the smallest')\n",
    "        print('number 1 is second greatest')\n",
    "else:\n",
    "    if p2>p3:\n",
    "        print('number 2 is greatest')\n",
    "        if p1>p3:\n",
    "            print('number 3 is smallest')\n",
    "            print('number 1 is second greatest')\n",
    "        else:\n",
    "            print('number 1 is smallest')\n",
    "            print('number 3 is second greatest')\n",
    "    else:\n",
    "        print('number 3 is greatest')\n",
    "        print('number 1 is smallest')\n",
    "        print('number 2 is second greatest')\n"
   ]
  },
  {
   "cell_type": "code",
   "execution_count": 5,
   "metadata": {},
   "outputs": [
    {
     "name": "stdout",
     "output_type": "stream",
     "text": [
      "enter marks78\n",
      "your grade is A\n"
     ]
    }
   ],
   "source": [
    "m=int(input('enter marks '))\n",
    "if m>80:\n",
    "    g='O'\n",
    "elif m>70 and m<=80:\n",
    "    g='A'\n",
    "elif m>60 and m<=70:\n",
    "    g='B'\n",
    "elif m>50 and m<=60:\n",
    "    g='C'\n",
    "elif m>35 and m<=50:\n",
    "    g='D'\n",
    "elif m<=35:\n",
    "    g='E'\n",
    "    \n",
    "print('your grade is',g)"
   ]
  },
  {
   "cell_type": "code",
   "execution_count": 2,
   "metadata": {},
   "outputs": [
    {
     "name": "stdout",
     "output_type": "stream",
     "text": [
      "enter number of bananas 66\n",
      "5 dozens and 6 bananas extra\n"
     ]
    }
   ],
   "source": [
    "n=int(input('enter number of bananas '))\n",
    "if n<0:\n",
    "    print('entered number is negative ')\n",
    "else:\n",
    "    print(n//12,'dozens and',n%12,'bananas extra')"
   ]
  },
  {
   "cell_type": "code",
   "execution_count": 1,
   "metadata": {},
   "outputs": [
    {
     "name": "stdout",
     "output_type": "stream",
     "text": [
      "enter a string huh\n",
      "it is a palindrome\n"
     ]
    }
   ],
   "source": [
    "a=str(input('enter a string '))\n",
    "if a[::-1]==a:\n",
    "    print('it is a palindrome')\n",
    "else:\n",
    "    print('it is not a palindrome')"
   ]
  },
  {
   "cell_type": "code",
   "execution_count": 7,
   "metadata": {},
   "outputs": [
    {
     "name": "stdout",
     "output_type": "stream",
     "text": [
      "enter a number 5\n",
      "10\n"
     ]
    }
   ],
   "source": [
    "n=int(input('enter a number '))\n",
    "if n<5:\n",
    "    print(n)\n",
    "else:\n",
    "    print(2*n)"
   ]
  },
  {
   "cell_type": "code",
   "execution_count": 8,
   "metadata": {},
   "outputs": [
    {
     "name": "stdout",
     "output_type": "stream",
     "text": [
      "enter a number60\n",
      "1\n",
      "2\n",
      "3\n",
      "4\n",
      "5\n",
      "6\n",
      "7\n",
      "8\n",
      "9\n",
      "10\n",
      "11\n",
      "12\n",
      "13\n",
      "14\n",
      "15\n",
      "16\n",
      "17\n",
      "18\n",
      "19\n",
      "20\n",
      "21\n",
      "22\n",
      "23\n",
      "24\n",
      "25\n",
      "26\n",
      "27\n",
      "28\n",
      "29\n",
      "30\n",
      "31\n",
      "32\n",
      "33\n",
      "34\n",
      "35\n",
      "36\n",
      "37\n",
      "38\n",
      "39\n",
      "40\n",
      "41\n",
      "42\n",
      "43\n",
      "44\n",
      "45\n",
      "46\n",
      "47\n",
      "48\n",
      "49\n",
      "50\n",
      "51\n",
      "52\n",
      "53\n",
      "54\n",
      "55\n",
      "56\n",
      "57\n",
      "58\n",
      "59\n",
      "60\n"
     ]
    }
   ],
   "source": [
    "n=int(input('enter a number '))\n",
    "for x in range(1,n+1):\n",
    "    print(x)"
   ]
  },
  {
   "cell_type": "code",
   "execution_count": null,
   "metadata": {},
   "outputs": [],
   "source": []
  }
 ],
 "metadata": {
  "kernelspec": {
   "display_name": "Python 3",
   "language": "python",
   "name": "python3"
  },
  "language_info": {
   "codemirror_mode": {
    "name": "ipython",
    "version": 3
   },
   "file_extension": ".py",
   "mimetype": "text/x-python",
   "name": "python",
   "nbconvert_exporter": "python",
   "pygments_lexer": "ipython3",
   "version": "3.7.3"
  }
 },
 "nbformat": 4,
 "nbformat_minor": 2
}
