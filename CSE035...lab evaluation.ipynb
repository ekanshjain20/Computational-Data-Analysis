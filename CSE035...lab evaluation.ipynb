{
 "cells": [
  {
   "cell_type": "code",
   "execution_count": 18,
   "metadata": {},
   "outputs": [
    {
     "name": "stdout",
     "output_type": "stream",
     "text": [
      "ENTER GRACE MARKS 4\n",
      "6 studnets were affected with grace marks\n",
      "average marks scored by students are 45.6\n"
     ]
    }
   ],
   "source": [
    "a=0\n",
    "s=0\n",
    "n=int(input('ENTER GRACE MARKS '))\n",
    "m=[37,45,13,37,90,23,67,11,89,56,14,38,12,38,45,99,78,45,37,38]\n",
    "for x in m:\n",
    "    if x<40 and x>=36:\n",
    "        x=x+n\n",
    "        a=a+1\n",
    "for x in m:\n",
    "        s=s+x\n",
    "print(a,'studnets were affected with grace marks')\n",
    "print('average marks scored by students are',s/20)"
   ]
  },
  {
   "cell_type": "code",
   "execution_count": 19,
   "metadata": {},
   "outputs": [
    {
     "name": "stdout",
     "output_type": "stream",
     "text": [
      "ENTER A POSITIVE NUMBER GREATER THAN 2:20\n",
      "4.472\n",
      "2.115\n",
      "1.454\n",
      "The operation got completed 3 times\n"
     ]
    }
   ],
   "source": [
    "import math\n",
    "a=0\n",
    "p=float(input('ENTER A POSITIVE NUMBER GREATER THAN 2:'))\n",
    "if p<=2:\n",
    "    print('ERROR-entered an invalid value')\n",
    "else:\n",
    "    while p>2:\n",
    "        p=math.sqrt(p)\n",
    "        a=a+1\n",
    "        print(round(p,3))\n",
    "print('The operation got completed',a,'times')"
   ]
  },
  {
   "cell_type": "code",
   "execution_count": null,
   "metadata": {},
   "outputs": [],
   "source": []
  }
 ],
 "metadata": {
  "kernelspec": {
   "display_name": "Python 3",
   "language": "python",
   "name": "python3"
  },
  "language_info": {
   "codemirror_mode": {
    "name": "ipython",
    "version": 3
   },
   "file_extension": ".py",
   "mimetype": "text/x-python",
   "name": "python",
   "nbconvert_exporter": "python",
   "pygments_lexer": "ipython3",
   "version": "3.7.3"
  }
 },
 "nbformat": 4,
 "nbformat_minor": 2
}
